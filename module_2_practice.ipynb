{
  "nbformat": 4,
  "nbformat_minor": 0,
  "metadata": {
    "colab": {
      "provenance": [],
      "authorship_tag": "ABX9TyO36B/9x5G/X+J4nrihhDuG",
      "include_colab_link": true
    },
    "kernelspec": {
      "name": "python3",
      "display_name": "Python 3"
    },
    "language_info": {
      "name": "python"
    }
  },
  "cells": [
    {
      "cell_type": "markdown",
      "metadata": {
        "id": "view-in-github",
        "colab_type": "text"
      },
      "source": [
        "<a href=\"https://colab.research.google.com/github/GMHashmi/Gen-AI-Training-Cohort-2/blob/main/module_2_practice.ipynb\" target=\"_parent\"><img src=\"https://colab.research.google.com/assets/colab-badge.svg\" alt=\"Open In Colab\"/></a>"
      ]
    },
    {
      "cell_type": "code",
      "execution_count": null,
      "metadata": {
        "colab": {
          "base_uri": "https://localhost:8080/"
        },
        "id": "hCA_HzIHJ48c",
        "outputId": "71ece8ba-8e9e-4ccf-d157-90a348872ddf"
      },
      "outputs": [
        {
          "output_type": "stream",
          "name": "stdout",
          "text": [
            "Gen AI Practice\n"
          ]
        }
      ],
      "source": [
        "print(\"Gen AI Practice\")\n"
      ]
    },
    {
      "cell_type": "markdown",
      "source": [
        "Variable\n"
      ],
      "metadata": {
        "id": "q45F5CrYMgh_"
      }
    },
    {
      "cell_type": "code",
      "source": [
        "x = 10\n",
        "print(x)\n",
        "print(type(x))\n",
        "\n",
        "y = 2.4\n",
        "print(y)\n",
        "print(type(y))\n",
        "\n",
        "z= \"GM\"\n",
        "print(z)\n",
        "print(type(z))"
      ],
      "metadata": {
        "colab": {
          "base_uri": "https://localhost:8080/"
        },
        "id": "iFS9cq85Mix_",
        "outputId": "a20052e8-46c4-406e-ad53-833f1e82ebc0"
      },
      "execution_count": null,
      "outputs": [
        {
          "output_type": "stream",
          "name": "stdout",
          "text": [
            "10\n",
            "<class 'int'>\n",
            "2.4\n",
            "<class 'float'>\n",
            "GM\n",
            "<class 'str'>\n"
          ]
        }
      ]
    },
    {
      "cell_type": "markdown",
      "source": [
        "**Arithmatic Operators**"
      ],
      "metadata": {
        "id": "mOgFrWDuNoWP"
      }
    },
    {
      "cell_type": "code",
      "source": [
        "x = 10\n",
        "y = 20\n",
        "print(\"x+y: \",x+y)\n",
        "print(\"x-y: \",x-y)\n",
        "print(\"x/y: \",x/y)\n",
        "print(\"x*y: \",x*y)\n",
        "print(\"IGNORE DECIMAL VALUE x//y: \",x//y)\n",
        "print(\"x remainder y\",x%y)\n",
        "print(\"x ki power y times\",x ** y)"
      ],
      "metadata": {
        "colab": {
          "base_uri": "https://localhost:8080/"
        },
        "id": "DQKbLts5Nup-",
        "outputId": "a831aa2c-dce8-466b-9296-4f5fbc058924"
      },
      "execution_count": null,
      "outputs": [
        {
          "output_type": "stream",
          "name": "stdout",
          "text": [
            "x+y:  30\n",
            "x-y:  -10\n",
            "x/y:  0.5\n",
            "x*y:  200\n",
            "IGNORE DECIMAL VALUE x//y:  0\n",
            "x remainder y 10\n",
            "x ki power y times 100000000000000000000\n"
          ]
        }
      ]
    },
    {
      "cell_type": "markdown",
      "source": [
        "**Logical Operator**"
      ],
      "metadata": {
        "id": "XGpemPZkOtXZ"
      }
    },
    {
      "cell_type": "code",
      "source": [
        "x = True\n",
        "y = False\n",
        "print(\"x and y is\",x and y)\n",
        "print(\"x or y is\",x or y)\n",
        "print(\"not x is\",not x)"
      ],
      "metadata": {
        "id": "XwMWvLYrOyXv",
        "colab": {
          "base_uri": "https://localhost:8080/"
        },
        "outputId": "84d3bb1a-b7dd-40de-d276-335cb003ca58"
      },
      "execution_count": null,
      "outputs": [
        {
          "output_type": "stream",
          "name": "stdout",
          "text": [
            "x and y is False\n",
            "x or y is True\n",
            "not x is False\n"
          ]
        }
      ]
    },
    {
      "cell_type": "markdown",
      "source": [
        "**if elif else**"
      ],
      "metadata": {
        "id": "B-t7euQzR0QB"
      }
    },
    {
      "cell_type": "code",
      "source": [
        "x = 10\n",
        "y = 5\n",
        "\n",
        "if(x>y):\n",
        "  print(\"x is greater than y\")\n",
        "elif(x==y):\n",
        "  print(\"x is equal to y\")\n",
        "else:\n",
        "  print(\"x is less than y\")"
      ],
      "metadata": {
        "colab": {
          "base_uri": "https://localhost:8080/"
        },
        "id": "q8aqLTsgR4sh",
        "outputId": "cc53e6a4-d0ea-4874-8adf-1b35e559f11f"
      },
      "execution_count": 1,
      "outputs": [
        {
          "output_type": "stream",
          "name": "stdout",
          "text": [
            "x is greater than y\n"
          ]
        }
      ]
    }
  ]
}