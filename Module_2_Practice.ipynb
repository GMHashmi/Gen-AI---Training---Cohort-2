{
  "nbformat": 4,
  "nbformat_minor": 0,
  "metadata": {
    "colab": {
      "provenance": [],
      "authorship_tag": "ABX9TyNE+YPt8gOZW4uV87IoMQgL",
      "include_colab_link": true
    },
    "kernelspec": {
      "name": "python3",
      "display_name": "Python 3"
    },
    "language_info": {
      "name": "python"
    }
  },
  "cells": [
    {
      "cell_type": "markdown",
      "metadata": {
        "id": "view-in-github",
        "colab_type": "text"
      },
      "source": [
        "<a href=\"https://colab.research.google.com/github/GMHashmi/Gen-AI-Training-Cohort-2/blob/main/Module_2_Practice.ipynb\" target=\"_parent\"><img src=\"https://colab.research.google.com/assets/colab-badge.svg\" alt=\"Open In Colab\"/></a>"
      ]
    },
    {
      "cell_type": "code",
      "execution_count": 7,
      "metadata": {
        "colab": {
          "base_uri": "https://localhost:8080/"
        },
        "id": "hCA_HzIHJ48c",
        "outputId": "bbf30cca-894e-42aa-c719-ba965eab5064"
      },
      "outputs": [
        {
          "output_type": "stream",
          "name": "stdout",
          "text": [
            "Gen AI Practice\n"
          ]
        }
      ],
      "source": [
        "print(\"Gen AI Practice\")\n"
      ]
    },
    {
      "cell_type": "markdown",
      "source": [
        "Variable\n"
      ],
      "metadata": {
        "id": "q45F5CrYMgh_"
      }
    },
    {
      "cell_type": "code",
      "source": [
        "x = 10\n",
        "print(x)\n",
        "print(type(x))\n",
        "\n",
        "y = 2.4\n",
        "print(y)\n",
        "print(type(y))\n",
        "\n",
        "z= \"GM\"\n",
        "print(z)\n",
        "print(type(z))"
      ],
      "metadata": {
        "colab": {
          "base_uri": "https://localhost:8080/"
        },
        "id": "iFS9cq85Mix_",
        "outputId": "4776d841-26b9-4c87-e81f-836200a81e19"
      },
      "execution_count": 8,
      "outputs": [
        {
          "output_type": "stream",
          "name": "stdout",
          "text": [
            "10\n",
            "<class 'int'>\n",
            "2.4\n",
            "<class 'float'>\n",
            "GM\n",
            "<class 'str'>\n"
          ]
        }
      ]
    },
    {
      "cell_type": "markdown",
      "source": [
        "**Comparison Operators**\n"
      ],
      "metadata": {
        "id": "uzMKk8XpPiJ9"
      }
    },
    {
      "cell_type": "code",
      "source": [
        "x = 10\n",
        "y = 5\n",
        "print()\n"
      ],
      "metadata": {
        "id": "Na7RucghPsEr"
      },
      "execution_count": null,
      "outputs": []
    },
    {
      "cell_type": "markdown",
      "source": [
        "**Arithmatic Operators**"
      ],
      "metadata": {
        "id": "mOgFrWDuNoWP"
      }
    },
    {
      "cell_type": "code",
      "source": [
        "x = 10\n",
        "y = 20\n",
        "print(\"x+y: \",x+y)\n",
        "print(\"x-y: \",x-y)\n",
        "print(\"x/y: \",x/y)\n",
        "print(\"x*y: \",x*y)\n",
        "print(\"IGNORE DECIMAL VALUE x//y: \",x//y)\n",
        "print(\"x remainder y\",x%y)\n",
        "print(\"x ki power y times\",x ** y)"
      ],
      "metadata": {
        "colab": {
          "base_uri": "https://localhost:8080/"
        },
        "id": "DQKbLts5Nup-",
        "outputId": "a831aa2c-dce8-466b-9296-4f5fbc058924"
      },
      "execution_count": null,
      "outputs": [
        {
          "output_type": "stream",
          "name": "stdout",
          "text": [
            "x+y:  30\n",
            "x-y:  -10\n",
            "x/y:  0.5\n",
            "x*y:  200\n",
            "IGNORE DECIMAL VALUE x//y:  0\n",
            "x remainder y 10\n",
            "x ki power y times 100000000000000000000\n"
          ]
        }
      ]
    }
  ]
}